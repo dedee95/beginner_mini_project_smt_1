{
 "cells": [
  {
   "cell_type": "markdown",
   "id": "79351eee",
   "metadata": {
    "slideshow": {
     "slide_type": "slide"
    }
   },
   "source": [
    "# Health Checker\n",
    "Group 3 Class B"
   ]
  },
  {
   "cell_type": "code",
   "execution_count": 17,
   "id": "908820a8",
   "metadata": {
    "slideshow": {
     "slide_type": "slide"
    }
   },
   "outputs": [],
   "source": [
    "def identitas():\n",
    "    global user, berat, gender, umur, tinggi\n",
    "    user = input(\"Username\\t\\t: \")\n",
    "    berat = float(input(\"Berat badan (kg)\\t: \"))\n",
    "    tinggi = float(input(\"Tinggi Badan (cm)\\t: \"))\n",
    "    gender = input(\"Gender (L/P)\\t\\t: \").upper()\n",
    "    umur = int(input(\"Umur\\t\\t\\t: \")) \n",
    "\n",
    "def ideal():\n",
    "    if gender == \"L\":\n",
    "        hasil = (tinggi - 100) - ((tinggi - 100)* 0.1)\n",
    "    else:\n",
    "        hasil = (tinggi - 100) - ((tinggi - 100)* 0.15)\n",
    "    return hasil\n",
    "\n",
    "def amb():\n",
    "    if gender == \"L\":\n",
    "        if umur in range(0,4):\n",
    "            hasil = (60.9 * berat) - 54\n",
    "        elif umur in range(4,11):\n",
    "            hasil = (22.7 * berat) + 495\n",
    "        elif umur in range(11,19):\n",
    "            hasil = (17.5 * berat) + 651\n",
    "        elif umur in range(19,31):\n",
    "            hasil = (15.3 * berat) + 679\n",
    "        elif umur in range(31,61):\n",
    "            hasil = (11.6 * berat) + 879\n",
    "        elif umur > 60 :\n",
    "            hasil = (13.5 * berat) + 487\n",
    "        else:\n",
    "            pass\n",
    "    else:\n",
    "        if umur in range(0,4):\n",
    "            hasil = (61 * berat) - 51\n",
    "        elif umur in range(4,11):\n",
    "            hasil = (22.5 * berat) + 499\n",
    "        elif umur in range(11,19):\n",
    "            hasil = (12.2 * berat) + 746\n",
    "        elif umur in range(19,31):\n",
    "            hasil = (14.7 * berat) + 496\n",
    "        elif umur in range(31,61):\n",
    "            hasil = (8.7 * berat) + 829\n",
    "        elif umur > 60 :\n",
    "            hasil = (10.5 * berat) + 596\n",
    "        else:\n",
    "            pass\n",
    "    return hasil\n",
    "\n",
    "def kesehatan():\n",
    "    count = 0\n",
    "    global data\n",
    "    data = []\n",
    "    while True:\n",
    "        count += 1\n",
    "        datas = float(input(f\"Berat badan hari ke-{count} (kg) = \"))\n",
    "        data.append(datas)\n",
    "        if count == 7:\n",
    "            break\n",
    "            \n",
    "    x = list(range(1,len(data)+1))\n",
    "    y = data\n",
    "    \n",
    "    import matplotlib.pyplot as plt\n",
    "    plt.title(\"Statistik Berat Badan\", fontdict={\"fontname\": \"Arial\", \"fontsize\": 18, \"fontweight\": \"bold\"})\n",
    "    plt.xlabel(\"Hari\")\n",
    "    plt.ylabel(\"Berat (kg)\")\n",
    "\n",
    "    plt.ylim(30,90)\n",
    "    plt.grid(True)\n",
    "    \n",
    "    plt.plot(x, (list([ideal(), ideal(), ideal(), ideal(), ideal(), ideal(), ideal()])), \"g--\", label=\"BB ideal\")\n",
    "    plt.plot(x, y,  marker=\"o\", ms=6, label='BB saat ini')\n",
    "    plt.legend(loc='upper left')\n",
    "    plt.show()\n",
    "    print(f\"Kebutuhan Kalori minimal: {amb()} kkal\")\n",
    "    keterangan()\n",
    "\n",
    "def keterangan():\n",
    "    if data[-1] > ideal():\n",
    "        print(65*\"=\")\n",
    "        print(\"\"\"Berat badan Anda lebih dari ideal. \n",
    "Untuk menurunkan berat badan dengan sehat, \n",
    "perbaiki pola makan Anda seperti berikut ini:\n",
    "\n",
    "    • Tingkatkan konsumsi serat seperti buah dan sayuran\n",
    "    • Tingkatkan konsumsi protein seperti ikan dan kacang-kacangan\n",
    "    • Konsumsi karbohidrat kompleks seperti nasi merah dan roti gandum\n",
    "    • Kurangi konsumsi lemak seperti makan-makanan yang digoreng\n",
    "\n",
    "Setelah memperbaiki pola makan lakukan gaya hidup sehat seperti:\n",
    "\n",
    "    • Berolahraga secara rutin\n",
    "    • Istirahat yang cukup\n",
    "    • Hindari stres\"\"\")\n",
    "        \n",
    "\n",
    "    elif data[-1] < ideal():\n",
    "        print(65*\"=\")\n",
    "        print(\"\"\"Berat badan anda kurang dari ideal. \n",
    "Untuk meningkatkan berat badan dan meningkatkan kondisi kesehatan\n",
    "konsumsi makanan berikut ini:\n",
    "\n",
    "    • Konsumsi karbohidrat seperti nasi dan umbi-umbian\n",
    "    • Protein seperti daging dan telur\n",
    "    • Lemak sehat seperti minyak kelapa dan minyak zaitun\n",
    "    • Buah-buahan seperti alpukat dan buah kering\n",
    "    • Camilan sehat seperti kacang-kacangan, keju, dan biskuit gandum\n",
    "\n",
    "Setelah memperbaiki pola makan lakukan gaya hidup sehat seperti:\n",
    "\n",
    "    • Berolahraga secara rutin\n",
    "    • Istirahat yang cukup\n",
    "    • Hindari stres\"\"\")\n",
    "\n",
    "    elif data[-1] == ideal():\n",
    "        print(65*\"=\")\n",
    "        print(\"\"\"Berat badan Anda sudah ideal. \n",
    "Pertahankan gaya hidup sehat Anda dan lakukan hal berikut ini:\n",
    "\n",
    "    • Makan-makanan yang sehat\n",
    "    • Berolahraga secara rutin\n",
    "    • Istirahat yang cukup\n",
    "    • Hindari stres\"\"\")"
   ]
  },
  {
   "cell_type": "markdown",
   "id": "61567923",
   "metadata": {
    "slideshow": {
     "slide_type": "slide"
    }
   },
   "source": [
    "### Menu Aplikasi"
   ]
  },
  {
   "cell_type": "code",
   "execution_count": 18,
   "id": "2360872d",
   "metadata": {
    "slideshow": {
     "slide_type": "subslide"
    }
   },
   "outputs": [
    {
     "name": "stdout",
     "output_type": "stream",
     "text": [
      "========================= HEALTH CHECKER ========================\n",
      "Username\t\t: Dono\n",
      "Berat badan (kg)\t: 57\n",
      "Tinggi Badan (cm)\t: 171\n",
      "Gender (L/P)\t\t: L\n",
      "Umur\t\t\t: 20\n",
      "=================================================================\n",
      "Selamat datang di aplikasi kami Dono\n",
      "Di aplikasi ini anda dapat melakukan cek kesehatan ringan.\n",
      "Parameter yagn digunakan adalah BB, TB, Gender, Usia\n",
      "fitur aplikasi:\n",
      "[1] Cek Kesehatan\n",
      "[2] Cek AMB\n",
      "[3] Cek BB ideal\n",
      "ketik 5 untuk keluar dari aplikasi\n",
      "=================================================================\n",
      "masukan pilihan menu = 1\n",
      "Berat badan hari ke-1 (kg) = 56\n",
      "Berat badan hari ke-2 (kg) = 57\n",
      "Berat badan hari ke-3 (kg) = 56.7\n",
      "Berat badan hari ke-4 (kg) = 67\n",
      "Berat badan hari ke-5 (kg) = 60\n",
      "Berat badan hari ke-6 (kg) = 61\n",
      "Berat badan hari ke-7 (kg) = 62\n"
     ]
    },
    {
     "data": {
      "image/png": "[encoded data removed]",
      "text/plain": [
       "<Figure size 432x288 with 1 Axes>"
      ]
     },
     "metadata": {
      "needs_background": "light"
     },
     "output_type": "display_data"
    },
    {
     "name": "stdout",
     "output_type": "stream",
     "text": [
      "Kebutuhan Kalori minimal: 1551.1 kkal\n",
      "=================================================================\n",
      "Berat badan anda kurang dari ideal. \n",
      "Untuk meningkatkan berat badan dan meningkatkan kondisi kesehatan\n",
      "konsumsi makanan berikut ini:\n",
      "\n",
      "    • Konsumsi karbohidrat seperti nasi dan umbi-umbian\n",
      "    • Protein seperti daging dan telur\n",
      "    • Lemak sehat seperti minyak kelapa dan minyak zaitun\n",
      "    • Buah-buahan seperti alpukat dan buah kering\n",
      "    • Camilan sehat seperti kacang-kacangan, keju, dan biskuit gandum\n",
      "\n",
      "Setelah memperbaiki pola makan lakukan gaya hidup sehat seperti:\n",
      "\n",
      "    • Berolahraga secara rutin\n",
      "    • Istirahat yang cukup\n",
      "    • Hindari stres\n",
      "=================================================================\n",
      "masukan pilihan menu = 2\n",
      "AMB Anda: 1551.1 kkal\n",
      "masukan pilihan menu = 3\n",
      "Berat badan ideal: 63.9 kg\n",
      "masukan pilihan menu = 5\n",
      "Apakah mau coba indentitas baru? (yes/no) = yes\n",
      "========================= HEALTH CHECKER ========================\n",
      "Username\t\t: Tini\n",
      "Berat badan (kg)\t: 60\n",
      "Tinggi Badan (cm)\t: 165\n",
      "Gender (L/P)\t\t: P\n",
      "Umur\t\t\t: 25\n",
      "=================================================================\n",
      "Selamat datang di aplikasi kami Tini\n",
      "Di aplikasi ini anda dapat melakukan cek kesehatan ringan.\n",
      "Parameter yagn digunakan adalah BB, TB, Gender, Usia\n",
      "fitur aplikasi:\n",
      "[1] Cek Kesehatan\n",
      "[2] Cek AMB\n",
      "[3] Cek BB ideal\n",
      "ketik 5 untuk keluar dari aplikasi\n",
      "=================================================================\n",
      "masukan pilihan menu = 1\n",
      "Berat badan hari ke-1 (kg) = 56\n",
      "Berat badan hari ke-2 (kg) = 57\n",
      "Berat badan hari ke-3 (kg) = 55\n",
      "Berat badan hari ke-4 (kg) = 56\n",
      "Berat badan hari ke-5 (kg) = 58\n",
      "Berat badan hari ke-6 (kg) = 60\n",
      "Berat badan hari ke-7 (kg) = 61\n"
     ]
    },
    {
     "data": {
      "image/png": "[encoded data removed]",
      "text/plain": [
       "<Figure size 432x288 with 1 Axes>"
      ]
     },
     "metadata": {
      "needs_background": "light"
     },
     "output_type": "display_data"
    },
    {
     "name": "stdout",
     "output_type": "stream",
     "text": [
      "Kebutuhan Kalori minimal: 1378.0 kkal\n",
      "=================================================================\n",
      "Berat badan Anda lebih dari ideal. \n",
      "Untuk menurunkan berat badan dengan sehat, \n",
      "perbaiki pola makan Anda seperti berikut ini:\n",
      "\n",
      "    • Tingkatkan konsumsi serat seperti buah dan sayuran\n",
      "    • Tingkatkan konsumsi protein seperti ikan dan kacang-kacangan\n",
      "    • Konsumsi karbohidrat kompleks seperti nasi merah dan roti gandum\n",
      "    • Kurangi konsumsi lemak seperti makan-makanan yang digoreng\n",
      "\n",
      "Setelah memperbaiki pola makan lakukan gaya hidup sehat seperti:\n",
      "\n",
      "    • Berolahraga secara rutin\n",
      "    • Istirahat yang cukup\n",
      "    • Hindari stres\n",
      "=================================================================\n",
      "masukan pilihan menu = 3\n",
      "Berat badan ideal: 55.25 kg\n",
      "masukan pilihan menu = 2\n",
      "AMB Anda: 1378.0 kkal\n",
      "masukan pilihan menu = 5\n",
      "Apakah mau coba indentitas baru? (yes/no) = no\n",
      "Terimakasih telah menggunakan aplikasi kami ^_^\n",
      "=================================================================\n"
     ]
    }
   ],
   "source": [
    "while True:\n",
    "    print(\" HEALTH CHECKER \".center(65, \"=\"))\n",
    "    identitas()\n",
    "    print(65*\"=\")\n",
    "    print(f\"\"\"Selamat datang di aplikasi kami {user}\n",
    "Di aplikasi ini anda dapat melakukan cek kesehatan ringan.\n",
    "Parameter yagn digunakan adalah BB, TB, Gender, Usia\n",
    "fitur aplikasi:\n",
    "[1] Cek Kesehatan\n",
    "[2] Cek AMB\n",
    "[3] Cek BB ideal\n",
    "ketik 5 untuk keluar dari aplikasi\"\"\")\n",
    "    print(65*\"=\")\n",
    "    while True:\n",
    "        menu = input(\"masukan pilihan menu = \")\n",
    "        if menu == \"1\":\n",
    "            kesehatan()\n",
    "            print(65*\"=\")\n",
    "        elif menu == \"2\":\n",
    "            print(f\"AMB Anda: {amb()} kkal\")\n",
    "        elif menu == \"3\":\n",
    "            print(f\"Berat badan ideal: {ideal()} kg\")\n",
    "        else:\n",
    "            break\n",
    "            \n",
    "    cek_lagi = input(\"Apakah mau coba indentitas baru? (yes/no) = \").lower()\n",
    "    if cek_lagi == \"yes\":\n",
    "        continue\n",
    "    elif cek_lagi == \"no\":\n",
    "        print(\"Terimakasih telah menggunakan aplikasi kami ^_^\")\n",
    "        print(65*\"=\")\n",
    "        break"
   ]
  },
  {
   "cell_type": "code",
   "execution_count": null,
   "id": "7f2ff811",
   "metadata": {},
   "outputs": [],
   "source": []
  }
 ],
 "metadata": {
  "kernelspec": {
   "display_name": "Python 3",
   "language": "python",
   "name": "python3"
  },
  "language_info": {
   "codemirror_mode": {
    "name": "ipython",
    "version": 3
   },
   "file_extension": ".py",
   "mimetype": "text/x-python",
   "name": "python",
   "nbconvert_exporter": "python",
   "pygments_lexer": "ipython3",
   "version": "3.8.8"
  }
 },
 "nbformat": 4,
 "nbformat_minor": 5
}
